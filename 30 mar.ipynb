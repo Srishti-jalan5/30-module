{
 "cells": [
  {
   "cell_type": "code",
   "execution_count": null,
   "id": "662a2e6e-3cce-40b9-8b0f-5d46578d1cd1",
   "metadata": {},
   "outputs": [],
   "source": [
    "Q1:\n",
    "Web scraping is the process of using bots to extract content and data from a website.\n",
    "Use -  it can help you gather different data into one place.\n",
    "The main 3 cases of web scraping include price monitoring,lead generation, and market research"
   ]
  },
  {
   "cell_type": "code",
   "execution_count": null,
   "id": "55d501fc-22f0-4adb-96dd-9c430efdc854",
   "metadata": {},
   "outputs": [],
   "source": [
    "Q2:\n",
    "Different Method used for web scarpping are: Beautiful Soup, urllib."
   ]
  },
  {
   "cell_type": "code",
   "execution_count": null,
   "id": "7cce87a7-3db0-4f9a-b7c3-2d8bbad29b7c",
   "metadata": {},
   "outputs": [],
   "source": [
    "Q3\n",
    "Beautiful Soup is a Python library used for pulling data out of HTML and XML files."
   ]
  },
  {
   "cell_type": "code",
   "execution_count": null,
   "id": "aa2cb5dd-fe49-44a8-9ebd-6533afd0eb3f",
   "metadata": {},
   "outputs": [],
   "source": [
    "Q4\n",
    "Flask provides a simple and consistent interface to the incoming HTTP request data."
   ]
  },
  {
   "cell_type": "code",
   "execution_count": null,
   "id": "ee8424e7-5d69-402d-9931-ea88aff02385",
   "metadata": {},
   "outputs": [],
   "source": [
    "Q5\n",
    "flipkart"
   ]
  }
 ],
 "metadata": {
  "kernelspec": {
   "display_name": "Python 3 (ipykernel)",
   "language": "python",
   "name": "python3"
  },
  "language_info": {
   "codemirror_mode": {
    "name": "ipython",
    "version": 3
   },
   "file_extension": ".py",
   "mimetype": "text/x-python",
   "name": "python",
   "nbconvert_exporter": "python",
   "pygments_lexer": "ipython3",
   "version": "3.10.8"
  }
 },
 "nbformat": 4,
 "nbformat_minor": 5
}
